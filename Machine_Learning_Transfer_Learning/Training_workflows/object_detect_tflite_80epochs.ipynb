{
 "cells": [
  {
   "cell_type": "code",
   "execution_count": 1,
   "metadata": {},
   "outputs": [
    {
     "name": "stderr",
     "output_type": "stream",
     "text": [
      "c:\\Users\\Joshua\\AppData\\Local\\Programs\\Python\\Python39\\lib\\site-packages\\tensorflow_addons\\utils\\tfa_eol_msg.py:23: UserWarning: \n",
      "\n",
      "TensorFlow Addons (TFA) has ended development and introduction of new features.\n",
      "TFA has entered a minimal maintenance and release mode until a planned end of life in May 2024.\n",
      "Please modify downstream libraries to take dependencies from other repositories in our TensorFlow community (e.g. Keras, Keras-CV, and Keras-NLP). \n",
      "\n",
      "For more information see: https://github.com/tensorflow/addons/issues/2807 \n",
      "\n",
      "  warnings.warn(\n",
      "c:\\Users\\Joshua\\AppData\\Local\\Programs\\Python\\Python39\\lib\\site-packages\\tensorflow_addons\\utils\\ensure_tf_install.py:53: UserWarning: Tensorflow Addons supports using Python ops for all Tensorflow versions above or equal to 2.10.0 and strictly below 2.13.0 (nightly versions are not supported). \n",
      " The versions of TensorFlow you are currently using is 2.9.0 and is not supported. \n",
      "Some things might work, some things might not.\n",
      "If you were to encounter a bug, do not file an issue.\n",
      "If you want to make sure you're using a tested and supported configuration, either change the TensorFlow version or the TensorFlow Addons's version. \n",
      "You can find the compatibility matrix in TensorFlow Addon's readme:\n",
      "https://github.com/tensorflow/addons\n",
      "  warnings.warn(\n",
      "c:\\Users\\Joshua\\AppData\\Local\\Programs\\Python\\Python39\\lib\\site-packages\\tqdm\\auto.py:21: TqdmWarning: IProgress not found. Please update jupyter and ipywidgets. See https://ipywidgets.readthedocs.io/en/stable/user_install.html\n",
      "  from .autonotebook import tqdm as notebook_tqdm\n"
     ]
    },
    {
     "name": "stdout",
     "output_type": "stream",
     "text": [
      "2.9.0\n"
     ]
    }
   ],
   "source": [
    "import numpy as np\n",
    "import os\n",
    "\n",
    "from tflite_model_maker.config import QuantizationConfig\n",
    "from tflite_model_maker.config import ExportFormat\n",
    "from tflite_model_maker import model_spec\n",
    "from tflite_model_maker import object_detector\n",
    "from tensorflow_hub.module_v2 import load\n",
    "\n",
    "from tflite_support import metadata\n",
    "\n",
    "import tensorflow as tf\n",
    "assert tf.__version__.startswith('2')\n",
    "print(tf.__version__)\n",
    "\n",
    "tf.get_logger().setLevel('ERROR')\n",
    "from absl import logging\n",
    "logging.set_verbosity(logging.ERROR)"
   ]
  },
  {
   "cell_type": "code",
   "execution_count": 2,
   "metadata": {},
   "outputs": [],
   "source": [
    "train_ds = object_detector.DataLoader.from_pascal_voc(\n",
    "    './project-6-at-2023-04-30-00-12-74270469/train',\n",
    "    './project-6-at-2023-04-30-00-12-74270469/train',\n",
    "    ['Counted_Objects', 'Not_Counted_Objects']\n",
    ")\n",
    "\n",
    "val_ds = object_detector.DataLoader.from_pascal_voc(\n",
    "    './project-6-at-2023-04-30-00-12-74270469/validate',\n",
    "    './project-6-at-2023-04-30-00-12-74270469/validate',\n",
    "    ['Counted_Objects', 'Not_Counted_Objects']\n",
    ")"
   ]
  },
  {
   "cell_type": "code",
   "execution_count": 3,
   "metadata": {},
   "outputs": [
    {
     "name": "stdout",
     "output_type": "stream",
     "text": [
      "108\n",
      "27\n"
     ]
    }
   ],
   "source": [
    "print(train_ds.size)\n",
    "print(val_ds.size)"
   ]
  },
  {
   "cell_type": "code",
   "execution_count": 4,
   "metadata": {},
   "outputs": [],
   "source": [
    "#spec = model_spec.get('efficientdet_lite4')\n",
    "\n",
    "spec = object_detector.EfficientDetSpec(\n",
    "  model_name='efficientdet-lite4', \n",
    "  uri='https://tfhub.dev/tensorflow/efficientdet/lite4/feature-vector/2', \n",
    "  hparams={'max_instances_per_image': 8000})"
   ]
  },
  {
   "cell_type": "code",
   "execution_count": 5,
   "metadata": {},
   "outputs": [
    {
     "name": "stdout",
     "output_type": "stream",
     "text": [
      "Epoch 1/80\n",
      "13/13 [==============================] - 287s 18s/step - det_loss: 1.7487 - cls_loss: 1.1201 - box_loss: 0.0126 - reg_l2_loss: 0.1078 - loss: 1.8565 - learning_rate: 0.0090 - gradient_norm: 0.5576 - val_det_loss: 1.6541 - val_cls_loss: 1.0861 - val_box_loss: 0.0114 - val_reg_l2_loss: 0.1078 - val_loss: 1.7619\n",
      "Epoch 2/80\n",
      "13/13 [==============================] - 229s 18s/step - det_loss: 1.6112 - cls_loss: 1.0411 - box_loss: 0.0114 - reg_l2_loss: 0.1078 - loss: 1.7190 - learning_rate: 0.0100 - gradient_norm: 0.8135 - val_det_loss: 1.3899 - val_cls_loss: 0.8924 - val_box_loss: 0.0099 - val_reg_l2_loss: 0.1078 - val_loss: 1.4976\n",
      "Epoch 3/80\n",
      "13/13 [==============================] - 232s 18s/step - det_loss: 1.2431 - cls_loss: 0.7722 - box_loss: 0.0094 - reg_l2_loss: 0.1078 - loss: 1.3509 - learning_rate: 0.0100 - gradient_norm: 1.9697 - val_det_loss: 1.3423 - val_cls_loss: 0.9062 - val_box_loss: 0.0087 - val_reg_l2_loss: 0.1078 - val_loss: 1.4501\n",
      "Epoch 4/80\n",
      "13/13 [==============================] - 231s 18s/step - det_loss: 0.9602 - cls_loss: 0.5960 - box_loss: 0.0073 - reg_l2_loss: 0.1078 - loss: 1.0680 - learning_rate: 0.0100 - gradient_norm: 2.3888 - val_det_loss: 1.0023 - val_cls_loss: 0.6092 - val_box_loss: 0.0079 - val_reg_l2_loss: 0.1078 - val_loss: 1.1101\n",
      "Epoch 5/80\n",
      "13/13 [==============================] - 253s 20s/step - det_loss: 0.8308 - cls_loss: 0.5207 - box_loss: 0.0062 - reg_l2_loss: 0.1078 - loss: 0.9386 - learning_rate: 0.0099 - gradient_norm: 1.9056 - val_det_loss: 0.8889 - val_cls_loss: 0.5136 - val_box_loss: 0.0075 - val_reg_l2_loss: 0.1078 - val_loss: 0.9967\n",
      "Epoch 6/80\n",
      "13/13 [==============================] - 237s 18s/step - det_loss: 0.7198 - cls_loss: 0.4582 - box_loss: 0.0052 - reg_l2_loss: 0.1078 - loss: 0.8277 - learning_rate: 0.0099 - gradient_norm: 2.0041 - val_det_loss: 0.8953 - val_cls_loss: 0.5427 - val_box_loss: 0.0071 - val_reg_l2_loss: 0.1078 - val_loss: 1.0031\n",
      "Epoch 7/80\n",
      "13/13 [==============================] - 235s 18s/step - det_loss: 0.6846 - cls_loss: 0.4328 - box_loss: 0.0050 - reg_l2_loss: 0.1078 - loss: 0.7924 - learning_rate: 0.0098 - gradient_norm: 1.7331 - val_det_loss: 0.9740 - val_cls_loss: 0.6245 - val_box_loss: 0.0070 - val_reg_l2_loss: 0.1078 - val_loss: 1.0819\n",
      "Epoch 8/80\n",
      "13/13 [==============================] - 230s 18s/step - det_loss: 0.6574 - cls_loss: 0.4203 - box_loss: 0.0047 - reg_l2_loss: 0.1078 - loss: 0.7652 - learning_rate: 0.0098 - gradient_norm: 1.7234 - val_det_loss: 0.7948 - val_cls_loss: 0.4645 - val_box_loss: 0.0066 - val_reg_l2_loss: 0.1078 - val_loss: 0.9027\n",
      "Epoch 9/80\n",
      "13/13 [==============================] - 230s 18s/step - det_loss: 0.6755 - cls_loss: 0.4095 - box_loss: 0.0053 - reg_l2_loss: 0.1078 - loss: 0.7833 - learning_rate: 0.0097 - gradient_norm: 2.7960 - val_det_loss: 0.8012 - val_cls_loss: 0.4802 - val_box_loss: 0.0064 - val_reg_l2_loss: 0.1078 - val_loss: 0.9091\n",
      "Epoch 10/80\n",
      "13/13 [==============================] - 242s 19s/step - det_loss: 0.6159 - cls_loss: 0.3967 - box_loss: 0.0044 - reg_l2_loss: 0.1079 - loss: 0.7238 - learning_rate: 0.0096 - gradient_norm: 1.8886 - val_det_loss: 0.9772 - val_cls_loss: 0.5852 - val_box_loss: 0.0078 - val_reg_l2_loss: 0.1079 - val_loss: 1.0850\n",
      "Epoch 11/80\n",
      "13/13 [==============================] - 230s 18s/step - det_loss: 0.6058 - cls_loss: 0.3870 - box_loss: 0.0044 - reg_l2_loss: 0.1079 - loss: 0.7136 - learning_rate: 0.0096 - gradient_norm: 2.1100 - val_det_loss: 0.8884 - val_cls_loss: 0.5209 - val_box_loss: 0.0073 - val_reg_l2_loss: 0.1079 - val_loss: 0.9962\n",
      "Epoch 12/80\n",
      "13/13 [==============================] - 231s 18s/step - det_loss: 0.5956 - cls_loss: 0.3844 - box_loss: 0.0042 - reg_l2_loss: 0.1079 - loss: 0.7035 - learning_rate: 0.0095 - gradient_norm: 1.9304 - val_det_loss: 0.9155 - val_cls_loss: 0.5675 - val_box_loss: 0.0070 - val_reg_l2_loss: 0.1079 - val_loss: 1.0234\n",
      "Epoch 13/80\n",
      "13/13 [==============================] - 231s 18s/step - det_loss: 0.6007 - cls_loss: 0.3842 - box_loss: 0.0043 - reg_l2_loss: 0.1079 - loss: 0.7086 - learning_rate: 0.0094 - gradient_norm: 1.9682 - val_det_loss: 0.6896 - val_cls_loss: 0.3895 - val_box_loss: 0.0060 - val_reg_l2_loss: 0.1079 - val_loss: 0.7974\n",
      "Epoch 14/80\n",
      "13/13 [==============================] - 233s 18s/step - det_loss: 0.5388 - cls_loss: 0.3393 - box_loss: 0.0040 - reg_l2_loss: 0.1079 - loss: 0.6466 - learning_rate: 0.0093 - gradient_norm: 1.7941 - val_det_loss: 0.6923 - val_cls_loss: 0.3985 - val_box_loss: 0.0059 - val_reg_l2_loss: 0.1079 - val_loss: 0.8002\n",
      "Epoch 15/80\n",
      "13/13 [==============================] - 242s 19s/step - det_loss: 0.5473 - cls_loss: 0.3373 - box_loss: 0.0042 - reg_l2_loss: 0.1079 - loss: 0.6552 - learning_rate: 0.0092 - gradient_norm: 2.0638 - val_det_loss: 0.8496 - val_cls_loss: 0.5326 - val_box_loss: 0.0063 - val_reg_l2_loss: 0.1079 - val_loss: 0.9575\n",
      "Epoch 16/80\n",
      "13/13 [==============================] - 230s 18s/step - det_loss: 0.5399 - cls_loss: 0.3460 - box_loss: 0.0039 - reg_l2_loss: 0.1079 - loss: 0.6478 - learning_rate: 0.0091 - gradient_norm: 2.2978 - val_det_loss: 0.7259 - val_cls_loss: 0.4378 - val_box_loss: 0.0058 - val_reg_l2_loss: 0.1079 - val_loss: 0.8338\n",
      "Epoch 17/80\n",
      "13/13 [==============================] - 229s 18s/step - det_loss: 0.4857 - cls_loss: 0.3051 - box_loss: 0.0036 - reg_l2_loss: 0.1079 - loss: 0.5936 - learning_rate: 0.0090 - gradient_norm: 2.0081 - val_det_loss: 0.6693 - val_cls_loss: 0.3730 - val_box_loss: 0.0059 - val_reg_l2_loss: 0.1079 - val_loss: 0.7771\n",
      "Epoch 18/80\n",
      "13/13 [==============================] - 230s 18s/step - det_loss: 0.5015 - cls_loss: 0.3227 - box_loss: 0.0036 - reg_l2_loss: 0.1079 - loss: 0.6094 - learning_rate: 0.0088 - gradient_norm: 1.6488 - val_det_loss: 0.6932 - val_cls_loss: 0.3996 - val_box_loss: 0.0059 - val_reg_l2_loss: 0.1079 - val_loss: 0.8010\n",
      "Epoch 19/80\n",
      "13/13 [==============================] - 229s 18s/step - det_loss: 0.5379 - cls_loss: 0.3195 - box_loss: 0.0044 - reg_l2_loss: 0.1079 - loss: 0.6457 - learning_rate: 0.0087 - gradient_norm: 2.0922 - val_det_loss: 0.6572 - val_cls_loss: 0.3675 - val_box_loss: 0.0058 - val_reg_l2_loss: 0.1079 - val_loss: 0.7651\n",
      "Epoch 20/80\n",
      "13/13 [==============================] - 243s 19s/step - det_loss: 0.5216 - cls_loss: 0.3203 - box_loss: 0.0040 - reg_l2_loss: 0.1079 - loss: 0.6295 - learning_rate: 0.0086 - gradient_norm: 1.9905 - val_det_loss: 0.6522 - val_cls_loss: 0.3716 - val_box_loss: 0.0056 - val_reg_l2_loss: 0.1079 - val_loss: 0.7601\n",
      "Epoch 21/80\n",
      "13/13 [==============================] - 229s 18s/step - det_loss: 0.4586 - cls_loss: 0.2850 - box_loss: 0.0035 - reg_l2_loss: 0.1079 - loss: 0.5665 - learning_rate: 0.0084 - gradient_norm: 1.3900 - val_det_loss: 0.6657 - val_cls_loss: 0.3876 - val_box_loss: 0.0056 - val_reg_l2_loss: 0.1079 - val_loss: 0.7736\n",
      "Epoch 22/80\n",
      "13/13 [==============================] - 229s 18s/step - det_loss: 0.4580 - cls_loss: 0.2760 - box_loss: 0.0036 - reg_l2_loss: 0.1079 - loss: 0.5659 - learning_rate: 0.0083 - gradient_norm: 1.3903 - val_det_loss: 0.6460 - val_cls_loss: 0.3695 - val_box_loss: 0.0055 - val_reg_l2_loss: 0.1079 - val_loss: 0.7539\n",
      "Epoch 23/80\n",
      "13/13 [==============================] - 229s 18s/step - det_loss: 0.4723 - cls_loss: 0.2804 - box_loss: 0.0038 - reg_l2_loss: 0.1079 - loss: 0.5802 - learning_rate: 0.0081 - gradient_norm: 2.0401 - val_det_loss: 0.6491 - val_cls_loss: 0.3789 - val_box_loss: 0.0054 - val_reg_l2_loss: 0.1079 - val_loss: 0.7569\n",
      "Epoch 24/80\n",
      "13/13 [==============================] - 229s 18s/step - det_loss: 0.4856 - cls_loss: 0.2918 - box_loss: 0.0039 - reg_l2_loss: 0.1079 - loss: 0.5935 - learning_rate: 0.0080 - gradient_norm: 2.0101 - val_det_loss: 0.6869 - val_cls_loss: 0.4208 - val_box_loss: 0.0053 - val_reg_l2_loss: 0.1079 - val_loss: 0.7947\n",
      "Epoch 25/80\n",
      "13/13 [==============================] - 241s 19s/step - det_loss: 0.4525 - cls_loss: 0.2808 - box_loss: 0.0034 - reg_l2_loss: 0.1079 - loss: 0.5604 - learning_rate: 0.0078 - gradient_norm: 2.3980 - val_det_loss: 0.6283 - val_cls_loss: 0.3593 - val_box_loss: 0.0054 - val_reg_l2_loss: 0.1079 - val_loss: 0.7361\n",
      "Epoch 26/80\n",
      "13/13 [==============================] - 229s 18s/step - det_loss: 0.4601 - cls_loss: 0.2837 - box_loss: 0.0035 - reg_l2_loss: 0.1079 - loss: 0.5679 - learning_rate: 0.0076 - gradient_norm: 1.8245 - val_det_loss: 0.6517 - val_cls_loss: 0.3839 - val_box_loss: 0.0054 - val_reg_l2_loss: 0.1079 - val_loss: 0.7596\n",
      "Epoch 27/80\n",
      "13/13 [==============================] - 228s 18s/step - det_loss: 0.4400 - cls_loss: 0.2667 - box_loss: 0.0035 - reg_l2_loss: 0.1079 - loss: 0.5478 - learning_rate: 0.0075 - gradient_norm: 1.9436 - val_det_loss: 0.6739 - val_cls_loss: 0.3966 - val_box_loss: 0.0055 - val_reg_l2_loss: 0.1079 - val_loss: 0.7818\n",
      "Epoch 28/80\n",
      "13/13 [==============================] - 230s 18s/step - det_loss: 0.4112 - cls_loss: 0.2597 - box_loss: 0.0030 - reg_l2_loss: 0.1079 - loss: 0.5191 - learning_rate: 0.0073 - gradient_norm: 1.7040 - val_det_loss: 0.6253 - val_cls_loss: 0.3565 - val_box_loss: 0.0054 - val_reg_l2_loss: 0.1079 - val_loss: 0.7332\n",
      "Epoch 29/80\n",
      "13/13 [==============================] - 228s 18s/step - det_loss: 0.4371 - cls_loss: 0.2715 - box_loss: 0.0033 - reg_l2_loss: 0.1079 - loss: 0.5450 - learning_rate: 0.0071 - gradient_norm: 1.6047 - val_det_loss: 0.6387 - val_cls_loss: 0.3626 - val_box_loss: 0.0055 - val_reg_l2_loss: 0.1079 - val_loss: 0.7466\n",
      "Epoch 30/80\n",
      "13/13 [==============================] - 240s 19s/step - det_loss: 0.4170 - cls_loss: 0.2685 - box_loss: 0.0030 - reg_l2_loss: 0.1079 - loss: 0.5249 - learning_rate: 0.0069 - gradient_norm: 1.6126 - val_det_loss: 0.6467 - val_cls_loss: 0.3730 - val_box_loss: 0.0055 - val_reg_l2_loss: 0.1079 - val_loss: 0.7546\n",
      "Epoch 31/80\n",
      "13/13 [==============================] - 229s 18s/step - det_loss: 0.4106 - cls_loss: 0.2458 - box_loss: 0.0033 - reg_l2_loss: 0.1079 - loss: 0.5185 - learning_rate: 0.0068 - gradient_norm: 1.6309 - val_det_loss: 0.6136 - val_cls_loss: 0.3528 - val_box_loss: 0.0052 - val_reg_l2_loss: 0.1079 - val_loss: 0.7214\n",
      "Epoch 32/80\n",
      "13/13 [==============================] - 229s 18s/step - det_loss: 0.4183 - cls_loss: 0.2498 - box_loss: 0.0034 - reg_l2_loss: 0.1079 - loss: 0.5262 - learning_rate: 0.0066 - gradient_norm: 1.4537 - val_det_loss: 0.6207 - val_cls_loss: 0.3584 - val_box_loss: 0.0052 - val_reg_l2_loss: 0.1079 - val_loss: 0.7286\n",
      "Epoch 33/80\n",
      "13/13 [==============================] - 228s 18s/step - det_loss: 0.3943 - cls_loss: 0.2391 - box_loss: 0.0031 - reg_l2_loss: 0.1079 - loss: 0.5022 - learning_rate: 0.0064 - gradient_norm: 1.5042 - val_det_loss: 0.6298 - val_cls_loss: 0.3580 - val_box_loss: 0.0054 - val_reg_l2_loss: 0.1079 - val_loss: 0.7376\n",
      "Epoch 34/80\n",
      "13/13 [==============================] - 228s 18s/step - det_loss: 0.4188 - cls_loss: 0.2580 - box_loss: 0.0032 - reg_l2_loss: 0.1079 - loss: 0.5266 - learning_rate: 0.0062 - gradient_norm: 2.2344 - val_det_loss: 0.6027 - val_cls_loss: 0.3445 - val_box_loss: 0.0052 - val_reg_l2_loss: 0.1079 - val_loss: 0.7106\n",
      "Epoch 35/80\n",
      "13/13 [==============================] - 240s 19s/step - det_loss: 0.4166 - cls_loss: 0.2566 - box_loss: 0.0032 - reg_l2_loss: 0.1079 - loss: 0.5244 - learning_rate: 0.0060 - gradient_norm: 2.0634 - val_det_loss: 0.6273 - val_cls_loss: 0.3683 - val_box_loss: 0.0052 - val_reg_l2_loss: 0.1079 - val_loss: 0.7352\n",
      "Epoch 36/80\n",
      "13/13 [==============================] - 229s 18s/step - det_loss: 0.3829 - cls_loss: 0.2431 - box_loss: 0.0028 - reg_l2_loss: 0.1079 - loss: 0.4908 - learning_rate: 0.0058 - gradient_norm: 1.8438 - val_det_loss: 0.6410 - val_cls_loss: 0.3759 - val_box_loss: 0.0053 - val_reg_l2_loss: 0.1079 - val_loss: 0.7488\n",
      "Epoch 37/80\n",
      "13/13 [==============================] - 228s 18s/step - det_loss: 0.3717 - cls_loss: 0.2322 - box_loss: 0.0028 - reg_l2_loss: 0.1079 - loss: 0.4796 - learning_rate: 0.0056 - gradient_norm: 1.7358 - val_det_loss: 0.6103 - val_cls_loss: 0.3498 - val_box_loss: 0.0052 - val_reg_l2_loss: 0.1079 - val_loss: 0.7182\n",
      "Epoch 38/80\n",
      "13/13 [==============================] - 228s 18s/step - det_loss: 0.3813 - cls_loss: 0.2371 - box_loss: 0.0029 - reg_l2_loss: 0.1079 - loss: 0.4891 - learning_rate: 0.0054 - gradient_norm: 1.7674 - val_det_loss: 0.6211 - val_cls_loss: 0.3574 - val_box_loss: 0.0053 - val_reg_l2_loss: 0.1079 - val_loss: 0.7289\n",
      "Epoch 39/80\n",
      "13/13 [==============================] - 235s 18s/step - det_loss: 0.3797 - cls_loss: 0.2412 - box_loss: 0.0028 - reg_l2_loss: 0.1079 - loss: 0.4876 - learning_rate: 0.0052 - gradient_norm: 2.5469 - val_det_loss: 0.6361 - val_cls_loss: 0.3586 - val_box_loss: 0.0055 - val_reg_l2_loss: 0.1079 - val_loss: 0.7439\n",
      "Epoch 40/80\n",
      "13/13 [==============================] - 247s 19s/step - det_loss: 0.3820 - cls_loss: 0.2338 - box_loss: 0.0030 - reg_l2_loss: 0.1079 - loss: 0.4898 - learning_rate: 0.0050 - gradient_norm: 1.4702 - val_det_loss: 0.6228 - val_cls_loss: 0.3566 - val_box_loss: 0.0053 - val_reg_l2_loss: 0.1079 - val_loss: 0.7307\n",
      "Epoch 41/80\n",
      "13/13 [==============================] - 234s 18s/step - det_loss: 0.3785 - cls_loss: 0.2356 - box_loss: 0.0029 - reg_l2_loss: 0.1079 - loss: 0.4864 - learning_rate: 0.0048 - gradient_norm: 1.8472 - val_det_loss: 0.6212 - val_cls_loss: 0.3548 - val_box_loss: 0.0053 - val_reg_l2_loss: 0.1079 - val_loss: 0.7290\n",
      "Epoch 42/80\n",
      "13/13 [==============================] - 227s 18s/step - det_loss: 0.4019 - cls_loss: 0.2447 - box_loss: 0.0031 - reg_l2_loss: 0.1079 - loss: 0.5098 - learning_rate: 0.0046 - gradient_norm: 1.5541 - val_det_loss: 0.6216 - val_cls_loss: 0.3529 - val_box_loss: 0.0054 - val_reg_l2_loss: 0.1079 - val_loss: 0.7294\n",
      "Epoch 43/80\n",
      "13/13 [==============================] - 228s 18s/step - det_loss: 0.3908 - cls_loss: 0.2468 - box_loss: 0.0029 - reg_l2_loss: 0.1079 - loss: 0.4987 - learning_rate: 0.0044 - gradient_norm: 2.1543 - val_det_loss: 0.6034 - val_cls_loss: 0.3390 - val_box_loss: 0.0053 - val_reg_l2_loss: 0.1079 - val_loss: 0.7113\n",
      "Epoch 44/80\n",
      "13/13 [==============================] - 228s 18s/step - det_loss: 0.3497 - cls_loss: 0.2187 - box_loss: 0.0026 - reg_l2_loss: 0.1079 - loss: 0.4575 - learning_rate: 0.0042 - gradient_norm: 1.4628 - val_det_loss: 0.6319 - val_cls_loss: 0.3600 - val_box_loss: 0.0054 - val_reg_l2_loss: 0.1079 - val_loss: 0.7398\n",
      "Epoch 45/80\n",
      "13/13 [==============================] - 240s 19s/step - det_loss: 0.3857 - cls_loss: 0.2358 - box_loss: 0.0030 - reg_l2_loss: 0.1079 - loss: 0.4935 - learning_rate: 0.0040 - gradient_norm: 2.4196 - val_det_loss: 0.6929 - val_cls_loss: 0.4074 - val_box_loss: 0.0057 - val_reg_l2_loss: 0.1079 - val_loss: 0.8008\n",
      "Epoch 46/80\n",
      "13/13 [==============================] - 228s 18s/step - det_loss: 0.3576 - cls_loss: 0.2207 - box_loss: 0.0027 - reg_l2_loss: 0.1079 - loss: 0.4654 - learning_rate: 0.0038 - gradient_norm: 1.3734 - val_det_loss: 0.6646 - val_cls_loss: 0.3878 - val_box_loss: 0.0055 - val_reg_l2_loss: 0.1079 - val_loss: 0.7724\n",
      "Epoch 47/80\n",
      "13/13 [==============================] - 229s 18s/step - det_loss: 0.3792 - cls_loss: 0.2309 - box_loss: 0.0030 - reg_l2_loss: 0.1079 - loss: 0.4870 - learning_rate: 0.0036 - gradient_norm: 2.0500 - val_det_loss: 0.6265 - val_cls_loss: 0.3560 - val_box_loss: 0.0054 - val_reg_l2_loss: 0.1079 - val_loss: 0.7344\n",
      "Epoch 48/80\n",
      "13/13 [==============================] - 229s 18s/step - det_loss: 0.3462 - cls_loss: 0.2178 - box_loss: 0.0026 - reg_l2_loss: 0.1079 - loss: 0.4541 - learning_rate: 0.0034 - gradient_norm: 1.5963 - val_det_loss: 0.6502 - val_cls_loss: 0.3730 - val_box_loss: 0.0055 - val_reg_l2_loss: 0.1079 - val_loss: 0.7581\n",
      "Epoch 49/80\n",
      "13/13 [==============================] - 228s 18s/step - det_loss: 0.3548 - cls_loss: 0.2186 - box_loss: 0.0027 - reg_l2_loss: 0.1079 - loss: 0.4627 - learning_rate: 0.0032 - gradient_norm: 1.6346 - val_det_loss: 0.6460 - val_cls_loss: 0.3713 - val_box_loss: 0.0055 - val_reg_l2_loss: 0.1079 - val_loss: 0.7538\n",
      "Epoch 50/80\n",
      "13/13 [==============================] - 239s 19s/step - det_loss: 0.3956 - cls_loss: 0.2364 - box_loss: 0.0032 - reg_l2_loss: 0.1079 - loss: 0.5035 - learning_rate: 0.0031 - gradient_norm: 2.1791 - val_det_loss: 0.6125 - val_cls_loss: 0.3439 - val_box_loss: 0.0054 - val_reg_l2_loss: 0.1079 - val_loss: 0.7203\n",
      "Epoch 51/80\n",
      "13/13 [==============================] - 228s 18s/step - det_loss: 0.3535 - cls_loss: 0.2157 - box_loss: 0.0028 - reg_l2_loss: 0.1079 - loss: 0.4613 - learning_rate: 0.0029 - gradient_norm: 1.4953 - val_det_loss: 0.6266 - val_cls_loss: 0.3556 - val_box_loss: 0.0054 - val_reg_l2_loss: 0.1079 - val_loss: 0.7344\n",
      "Epoch 52/80\n",
      "13/13 [==============================] - 228s 18s/step - det_loss: 0.3253 - cls_loss: 0.2036 - box_loss: 0.0024 - reg_l2_loss: 0.1079 - loss: 0.4331 - learning_rate: 0.0027 - gradient_norm: 1.3000 - val_det_loss: 0.6111 - val_cls_loss: 0.3454 - val_box_loss: 0.0053 - val_reg_l2_loss: 0.1078 - val_loss: 0.7190\n",
      "Epoch 53/80\n",
      "13/13 [==============================] - 229s 18s/step - det_loss: 0.3533 - cls_loss: 0.2152 - box_loss: 0.0028 - reg_l2_loss: 0.1078 - loss: 0.4612 - learning_rate: 0.0025 - gradient_norm: 1.9126 - val_det_loss: 0.6126 - val_cls_loss: 0.3452 - val_box_loss: 0.0053 - val_reg_l2_loss: 0.1078 - val_loss: 0.7205\n",
      "Epoch 54/80\n",
      "13/13 [==============================] - 227s 18s/step - det_loss: 0.3491 - cls_loss: 0.2080 - box_loss: 0.0028 - reg_l2_loss: 0.1078 - loss: 0.4570 - learning_rate: 0.0024 - gradient_norm: 1.5117 - val_det_loss: 0.6140 - val_cls_loss: 0.3454 - val_box_loss: 0.0054 - val_reg_l2_loss: 0.1078 - val_loss: 0.7219\n",
      "Epoch 55/80\n",
      "13/13 [==============================] - 240s 19s/step - det_loss: 0.3605 - cls_loss: 0.2178 - box_loss: 0.0029 - reg_l2_loss: 0.1078 - loss: 0.4684 - learning_rate: 0.0022 - gradient_norm: 1.6165 - val_det_loss: 0.6094 - val_cls_loss: 0.3437 - val_box_loss: 0.0053 - val_reg_l2_loss: 0.1078 - val_loss: 0.7172\n",
      "Epoch 56/80\n",
      "13/13 [==============================] - 227s 18s/step - det_loss: 0.3611 - cls_loss: 0.2220 - box_loss: 0.0028 - reg_l2_loss: 0.1078 - loss: 0.4690 - learning_rate: 0.0020 - gradient_norm: 1.5421 - val_det_loss: 0.6087 - val_cls_loss: 0.3436 - val_box_loss: 0.0053 - val_reg_l2_loss: 0.1078 - val_loss: 0.7165\n",
      "Epoch 57/80\n",
      "13/13 [==============================] - 227s 18s/step - det_loss: 0.3686 - cls_loss: 0.2250 - box_loss: 0.0029 - reg_l2_loss: 0.1078 - loss: 0.4764 - learning_rate: 0.0019 - gradient_norm: 1.6623 - val_det_loss: 0.6019 - val_cls_loss: 0.3397 - val_box_loss: 0.0052 - val_reg_l2_loss: 0.1078 - val_loss: 0.7097\n",
      "Epoch 58/80\n",
      "13/13 [==============================] - 228s 18s/step - det_loss: 0.3413 - cls_loss: 0.2128 - box_loss: 0.0026 - reg_l2_loss: 0.1078 - loss: 0.4491 - learning_rate: 0.0017 - gradient_norm: 1.6593 - val_det_loss: 0.5962 - val_cls_loss: 0.3348 - val_box_loss: 0.0052 - val_reg_l2_loss: 0.1078 - val_loss: 0.7040\n",
      "Epoch 59/80\n",
      "13/13 [==============================] - 227s 18s/step - det_loss: 0.3503 - cls_loss: 0.2181 - box_loss: 0.0026 - reg_l2_loss: 0.1078 - loss: 0.4582 - learning_rate: 0.0016 - gradient_norm: 1.7053 - val_det_loss: 0.6019 - val_cls_loss: 0.3379 - val_box_loss: 0.0053 - val_reg_l2_loss: 0.1078 - val_loss: 0.7098\n",
      "Epoch 60/80\n",
      "13/13 [==============================] - 239s 19s/step - det_loss: 0.3511 - cls_loss: 0.2142 - box_loss: 0.0027 - reg_l2_loss: 0.1078 - loss: 0.4590 - learning_rate: 0.0014 - gradient_norm: 1.8172 - val_det_loss: 0.5961 - val_cls_loss: 0.3347 - val_box_loss: 0.0052 - val_reg_l2_loss: 0.1078 - val_loss: 0.7039\n",
      "Epoch 61/80\n",
      "13/13 [==============================] - 230s 18s/step - det_loss: 0.3323 - cls_loss: 0.2109 - box_loss: 0.0024 - reg_l2_loss: 0.1078 - loss: 0.4402 - learning_rate: 0.0013 - gradient_norm: 1.6202 - val_det_loss: 0.6011 - val_cls_loss: 0.3379 - val_box_loss: 0.0053 - val_reg_l2_loss: 0.1078 - val_loss: 0.7090\n",
      "Epoch 62/80\n",
      "13/13 [==============================] - 227s 18s/step - det_loss: 0.3205 - cls_loss: 0.2009 - box_loss: 0.0024 - reg_l2_loss: 0.1078 - loss: 0.4284 - learning_rate: 0.0012 - gradient_norm: 1.4436 - val_det_loss: 0.6124 - val_cls_loss: 0.3450 - val_box_loss: 0.0053 - val_reg_l2_loss: 0.1078 - val_loss: 0.7202\n",
      "Epoch 63/80\n",
      "13/13 [==============================] - 227s 18s/step - det_loss: 0.3610 - cls_loss: 0.2215 - box_loss: 0.0028 - reg_l2_loss: 0.1078 - loss: 0.4689 - learning_rate: 0.0010 - gradient_norm: 1.8475 - val_det_loss: 0.6129 - val_cls_loss: 0.3459 - val_box_loss: 0.0053 - val_reg_l2_loss: 0.1078 - val_loss: 0.7207\n",
      "Epoch 64/80\n",
      "13/13 [==============================] - 228s 18s/step - det_loss: 0.3423 - cls_loss: 0.2127 - box_loss: 0.0026 - reg_l2_loss: 0.1078 - loss: 0.4501 - learning_rate: 9.2107e-04 - gradient_norm: 1.5631 - val_det_loss: 0.6125 - val_cls_loss: 0.3447 - val_box_loss: 0.0054 - val_reg_l2_loss: 0.1078 - val_loss: 0.7203\n",
      "Epoch 65/80\n",
      "13/13 [==============================] - 239s 19s/step - det_loss: 0.3525 - cls_loss: 0.2139 - box_loss: 0.0028 - reg_l2_loss: 0.1078 - loss: 0.4604 - learning_rate: 8.0935e-04 - gradient_norm: 1.5523 - val_det_loss: 0.6079 - val_cls_loss: 0.3424 - val_box_loss: 0.0053 - val_reg_l2_loss: 0.1078 - val_loss: 0.7158\n",
      "Epoch 66/80\n",
      "13/13 [==============================] - 227s 18s/step - det_loss: 0.3636 - cls_loss: 0.2210 - box_loss: 0.0029 - reg_l2_loss: 0.1078 - loss: 0.4714 - learning_rate: 7.0426e-04 - gradient_norm: 1.8205 - val_det_loss: 0.6051 - val_cls_loss: 0.3396 - val_box_loss: 0.0053 - val_reg_l2_loss: 0.1078 - val_loss: 0.7130\n",
      "Epoch 67/80\n",
      "13/13 [==============================] - 228s 18s/step - det_loss: 0.3178 - cls_loss: 0.1984 - box_loss: 0.0024 - reg_l2_loss: 0.1078 - loss: 0.4256 - learning_rate: 6.0596e-04 - gradient_norm: 1.2061 - val_det_loss: 0.6107 - val_cls_loss: 0.3431 - val_box_loss: 0.0054 - val_reg_l2_loss: 0.1078 - val_loss: 0.7185\n",
      "Epoch 68/80\n",
      "13/13 [==============================] - 227s 18s/step - det_loss: 0.3457 - cls_loss: 0.2198 - box_loss: 0.0025 - reg_l2_loss: 0.1078 - loss: 0.4535 - learning_rate: 5.1461e-04 - gradient_norm: 2.2465 - val_det_loss: 0.6106 - val_cls_loss: 0.3434 - val_box_loss: 0.0053 - val_reg_l2_loss: 0.1078 - val_loss: 0.7184\n",
      "Epoch 69/80\n",
      "13/13 [==============================] - 228s 18s/step - det_loss: 0.3427 - cls_loss: 0.2139 - box_loss: 0.0026 - reg_l2_loss: 0.1078 - loss: 0.4505 - learning_rate: 4.3035e-04 - gradient_norm: 1.5210 - val_det_loss: 0.6054 - val_cls_loss: 0.3408 - val_box_loss: 0.0053 - val_reg_l2_loss: 0.1078 - val_loss: 0.7132\n",
      "Epoch 70/80\n",
      "13/13 [==============================] - 238s 19s/step - det_loss: 0.3159 - cls_loss: 0.2027 - box_loss: 0.0023 - reg_l2_loss: 0.1078 - loss: 0.4238 - learning_rate: 3.5332e-04 - gradient_norm: 1.4542 - val_det_loss: 0.6059 - val_cls_loss: 0.3418 - val_box_loss: 0.0053 - val_reg_l2_loss: 0.1078 - val_loss: 0.7137\n",
      "Epoch 71/80\n",
      "13/13 [==============================] - 227s 18s/step - det_loss: 0.3225 - cls_loss: 0.2021 - box_loss: 0.0024 - reg_l2_loss: 0.1078 - loss: 0.4303 - learning_rate: 2.8364e-04 - gradient_norm: 1.1049 - val_det_loss: 0.6077 - val_cls_loss: 0.3430 - val_box_loss: 0.0053 - val_reg_l2_loss: 0.1078 - val_loss: 0.7156\n",
      "Epoch 72/80\n",
      "13/13 [==============================] - 226s 18s/step - det_loss: 0.3356 - cls_loss: 0.2084 - box_loss: 0.0025 - reg_l2_loss: 0.1078 - loss: 0.4435 - learning_rate: 2.2141e-04 - gradient_norm: 1.3696 - val_det_loss: 0.6088 - val_cls_loss: 0.3432 - val_box_loss: 0.0053 - val_reg_l2_loss: 0.1078 - val_loss: 0.7166\n",
      "Epoch 73/80\n",
      "13/13 [==============================] - 230s 18s/step - det_loss: 0.3216 - cls_loss: 0.2023 - box_loss: 0.0024 - reg_l2_loss: 0.1078 - loss: 0.4295 - learning_rate: 1.6674e-04 - gradient_norm: 1.4024 - val_det_loss: 0.6072 - val_cls_loss: 0.3420 - val_box_loss: 0.0053 - val_reg_l2_loss: 0.1078 - val_loss: 0.7150\n",
      "Epoch 74/80\n",
      "13/13 [==============================] - 233s 18s/step - det_loss: 0.3183 - cls_loss: 0.1990 - box_loss: 0.0024 - reg_l2_loss: 0.1078 - loss: 0.4261 - learning_rate: 1.1971e-04 - gradient_norm: 1.2629 - val_det_loss: 0.6055 - val_cls_loss: 0.3412 - val_box_loss: 0.0053 - val_reg_l2_loss: 0.1078 - val_loss: 0.7134\n",
      "Epoch 75/80\n",
      "13/13 [==============================] - 245s 19s/step - det_loss: 0.3344 - cls_loss: 0.2057 - box_loss: 0.0026 - reg_l2_loss: 0.1078 - loss: 0.4423 - learning_rate: 8.0394e-05 - gradient_norm: 1.3955 - val_det_loss: 0.6070 - val_cls_loss: 0.3424 - val_box_loss: 0.0053 - val_reg_l2_loss: 0.1078 - val_loss: 0.7149\n",
      "Epoch 76/80\n",
      "13/13 [==============================] - 229s 18s/step - det_loss: 0.3272 - cls_loss: 0.2070 - box_loss: 0.0024 - reg_l2_loss: 0.1078 - loss: 0.4350 - learning_rate: 4.8861e-05 - gradient_norm: 1.2837 - val_det_loss: 0.6063 - val_cls_loss: 0.3420 - val_box_loss: 0.0053 - val_reg_l2_loss: 0.1078 - val_loss: 0.7142\n",
      "Epoch 77/80\n",
      "13/13 [==============================] - 227s 18s/step - det_loss: 0.3388 - cls_loss: 0.2093 - box_loss: 0.0026 - reg_l2_loss: 0.1078 - loss: 0.4467 - learning_rate: 2.5156e-05 - gradient_norm: 1.6261 - val_det_loss: 0.6052 - val_cls_loss: 0.3412 - val_box_loss: 0.0053 - val_reg_l2_loss: 0.1078 - val_loss: 0.7130\n",
      "Epoch 78/80\n",
      "13/13 [==============================] - 227s 18s/step - det_loss: 0.3224 - cls_loss: 0.2056 - box_loss: 0.0023 - reg_l2_loss: 0.1078 - loss: 0.4302 - learning_rate: 9.3173e-06 - gradient_norm: 1.4230 - val_det_loss: 0.6059 - val_cls_loss: 0.3416 - val_box_loss: 0.0053 - val_reg_l2_loss: 0.1078 - val_loss: 0.7138\n",
      "Epoch 79/80\n",
      "13/13 [==============================] - 227s 18s/step - det_loss: 0.3415 - cls_loss: 0.2082 - box_loss: 0.0027 - reg_l2_loss: 0.1078 - loss: 0.4493 - learning_rate: 1.3700e-06 - gradient_norm: 1.5365 - val_det_loss: 0.6063 - val_cls_loss: 0.3419 - val_box_loss: 0.0053 - val_reg_l2_loss: 0.1078 - val_loss: 0.7142\n",
      "Epoch 80/80\n",
      "13/13 [==============================] - 239s 19s/step - det_loss: 0.3148 - cls_loss: 0.1967 - box_loss: 0.0024 - reg_l2_loss: 0.1078 - loss: 0.4226 - learning_rate: 1.3267e-06 - gradient_norm: 1.6193 - val_det_loss: 0.6060 - val_cls_loss: 0.3416 - val_box_loss: 0.0053 - val_reg_l2_loss: 0.1078 - val_loss: 0.7138\n"
     ]
    }
   ],
   "source": [
    "model = object_detector.create(train_ds, model_spec=spec, batch_size=8, train_whole_model=True, epochs=80, validation_data=val_ds)"
   ]
  },
  {
   "cell_type": "code",
   "execution_count": 6,
   "metadata": {},
   "outputs": [
    {
     "name": "stdout",
     "output_type": "stream",
     "text": [
      "2/2 [==============================] - 59s 21s/step\n",
      "\n"
     ]
    },
    {
     "data": {
      "text/plain": [
       "{'AP': 0.5544611,\n",
       " 'AP50': 0.76071715,\n",
       " 'AP75': 0.6460187,\n",
       " 'APs': 0.0,\n",
       " 'APm': 0.0029702971,\n",
       " 'APl': 0.5677828,\n",
       " 'ARmax1': 0.17542134,\n",
       " 'ARmax10': 0.4374202,\n",
       " 'ARmax100': 0.6301941,\n",
       " 'ARs': 0.0,\n",
       " 'ARm': 0.0015789474,\n",
       " 'ARl': 0.64533335,\n",
       " 'AP_/Counted_Objects': 0.54408205,\n",
       " 'AP_/Not_Counted_Objects': 0.5648402}"
      ]
     },
     "execution_count": 6,
     "metadata": {},
     "output_type": "execute_result"
    }
   ],
   "source": [
    "model.evaluate(train_ds)"
   ]
  },
  {
   "cell_type": "code",
   "execution_count": 7,
   "metadata": {},
   "outputs": [
    {
     "name": "stdout",
     "output_type": "stream",
     "text": [
      "1/1 [==============================] - 17s 17s/step\n",
      "\n"
     ]
    },
    {
     "data": {
      "text/plain": [
       "{'AP': 0.45551667,\n",
       " 'AP50': 0.64833564,\n",
       " 'AP75': 0.5302315,\n",
       " 'APs': 0.0,\n",
       " 'APm': 0.08316832,\n",
       " 'APl': 0.45911354,\n",
       " 'ARmax1': 0.13732842,\n",
       " 'ARmax10': 0.3605559,\n",
       " 'ARmax100': 0.5368201,\n",
       " 'ARs': 0.0,\n",
       " 'ARm': 0.10909091,\n",
       " 'ARl': 0.5404842,\n",
       " 'AP_/Counted_Objects': 0.44071186,\n",
       " 'AP_/Not_Counted_Objects': 0.47032145}"
      ]
     },
     "execution_count": 7,
     "metadata": {},
     "output_type": "execute_result"
    }
   ],
   "source": [
    "model.evaluate(val_ds)"
   ]
  },
  {
   "cell_type": "code",
   "execution_count": 8,
   "metadata": {},
   "outputs": [],
   "source": [
    "model.export(export_dir='../obj_model_training/',tflite_filename='efd_4_uc_la_bs8.tflite')"
   ]
  }
 ],
 "metadata": {
  "kernelspec": {
   "display_name": "Python 3.9.6 64-bit",
   "language": "python",
   "name": "python3"
  },
  "language_info": {
   "codemirror_mode": {
    "name": "ipython",
    "version": 3
   },
   "file_extension": ".py",
   "mimetype": "text/x-python",
   "name": "python",
   "nbconvert_exporter": "python",
   "pygments_lexer": "ipython3",
   "version": "3.9.6"
  },
  "orig_nbformat": 4,
  "vscode": {
   "interpreter": {
    "hash": "d9b4152bdeb378efbe5cbe01fddae34711d83c69dd2eb883824ceea7fe188d74"
   }
  }
 },
 "nbformat": 4,
 "nbformat_minor": 2
}
